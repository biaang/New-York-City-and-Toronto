{
    "cells": [
        {
            "cell_type": "markdown",
            "metadata": {
                "collapsed": true
            },
            "source": "## Exploring New York City and the city of Toronto"
        },
        {
            "cell_type": "markdown",
            "metadata": {},
            "source": "The main idea of this project is to explore New York City and the city of Toronto. Both towns have a high-density population, with New York City being the largest city in the US (even without Brooklyn), with 8.40 million residents. Toronto is the most populated city in  Canada, being the home of over 5 million people.  \nThere are hundreds of neighborhoods in New York City and 140 neighborhoods in Toronto. The cities have a great diversity in their communities and venues, considered by the World Atlas as one of the world's most diverse cities. \nThis project will analyze the district, areas, and venues of both cities. The data will contain pieces of information such as the name of the neighborhood, the borough, the latitude, the longitude, and their Postal Code. Another tool will also be used to explore the venues in those cities, including restaurants, cafes, bars, and gyms. \nBecause data visualization plays a massive role in Data Science, tables, graphs, and maps will be used to present the project in an easy to understand manner.\nTo complete this activity,  a dataset from New York City and the city of Toronto will be used, in addition to the Foursquare tool. \n"
        }
    ],
    "metadata": {
        "kernelspec": {
            "display_name": "Python 3.6",
            "language": "python",
            "name": "python3"
        },
        "language_info": {
            "codemirror_mode": {
                "name": "ipython",
                "version": 3
            },
            "file_extension": ".py",
            "mimetype": "text/x-python",
            "name": "python",
            "nbconvert_exporter": "python",
            "pygments_lexer": "ipython3",
            "version": "3.6.9"
        }
    },
    "nbformat": 4,
    "nbformat_minor": 1
}